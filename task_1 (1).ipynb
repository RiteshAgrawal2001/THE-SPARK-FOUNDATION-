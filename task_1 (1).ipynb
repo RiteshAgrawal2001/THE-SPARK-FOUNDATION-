{
 "cells": [
  {
   "cell_type": "markdown",
   "id": "e7c486a9",
   "metadata": {},
   "source": [
    "# The Sparks Foundation - Data Science & Business Analytics Internship\n",
    "\n"
   ]
  },
  {
   "cell_type": "markdown",
   "id": "4633320c",
   "metadata": {},
   "source": [
    "## TASK 1 - Prediction using Supervised Machine Learning"
   ]
  },
  {
   "cell_type": "markdown",
   "id": "ed82ad82",
   "metadata": {},
   "source": [
    "**In this task it is required to predict the percentage of a student on the basis of number of hours studied using the Linear Regression supervised machine learning algorithm**\n",
    "\n"
   ]
  },
  {
   "cell_type": "markdown",
   "id": "37ccfd77",
   "metadata": {},
   "source": [
    "### Steps:"
   ]
  },
  {
   "cell_type": "markdown",
   "id": "58dbc14b",
   "metadata": {},
   "source": [
    "- **Step 1** - Importing the dataset\n",
    "- **Step 2** - Visualizing the dataset\n",
    "- **Step 3** - Data preparation\n",
    "- **Step 4** - Training the algorithm\n",
    "- **Step 5** - Visualizing the model\n",
    "- **Step 6** - Making predcitions\n",
    "- **Step 7** - Evaluating the model"
   ]
  },
  {
   "cell_type": "markdown",
   "id": "dbae42c2",
   "metadata": {},
   "source": [
    "# **Author:    RITESH    JAIPRAKASH     AGRAWAL**"
   ]
  },
  {
   "cell_type": "markdown",
   "id": "14144021",
   "metadata": {},
   "source": [
    "## STEP 1 - Importing the dataset\n",
    "\n",
    "\n",
    "\n",
    "*In this step, we will import the dataset through the link with the help of pandas library and then we will observe the data*"
   ]
  },
  {
   "cell_type": "code",
   "execution_count": 1,
   "id": "f8091dcc",
   "metadata": {},
   "outputs": [],
   "source": [
    "\n",
    "# Importing all the required libraries\n",
    "\n",
    "import pandas as pd\n",
    "import numpy as np  \n",
    "import matplotlib.pyplot as plt  \n",
    "%matplotlib inline\n",
    "import seaborn as sns \n",
    "\n",
    "# To ignore the warnings \n",
    "import warnings as wg\n",
    "wg.filterwarnings(\"ignore\")"
   ]
  },
  {
   "cell_type": "code",
   "execution_count": 2,
   "id": "7ff16e52",
   "metadata": {},
   "outputs": [],
   "source": [
    "# Reading data from remote link\n",
    "\n",
    "url = \"https://raw.githubusercontent.com/AdiPersonalWorks/Random/master/student_scores%20-%20student_scores.csv\"\n",
    "df = pd.read_csv(url)"
   ]
  },
  {
   "cell_type": "code",
   "execution_count": 3,
   "id": "ddfe19d5",
   "metadata": {},
   "outputs": [
    {
     "data": {
      "text/html": [
       "<div>\n",
       "<style scoped>\n",
       "    .dataframe tbody tr th:only-of-type {\n",
       "        vertical-align: middle;\n",
       "    }\n",
       "\n",
       "    .dataframe tbody tr th {\n",
       "        vertical-align: top;\n",
       "    }\n",
       "\n",
       "    .dataframe thead th {\n",
       "        text-align: right;\n",
       "    }\n",
       "</style>\n",
       "<table border=\"1\" class=\"dataframe\">\n",
       "  <thead>\n",
       "    <tr style=\"text-align: right;\">\n",
       "      <th></th>\n",
       "      <th>Hours</th>\n",
       "      <th>Scores</th>\n",
       "    </tr>\n",
       "  </thead>\n",
       "  <tbody>\n",
       "    <tr>\n",
       "      <th>0</th>\n",
       "      <td>2.5</td>\n",
       "      <td>21</td>\n",
       "    </tr>\n",
       "    <tr>\n",
       "      <th>1</th>\n",
       "      <td>5.1</td>\n",
       "      <td>47</td>\n",
       "    </tr>\n",
       "    <tr>\n",
       "      <th>2</th>\n",
       "      <td>3.2</td>\n",
       "      <td>27</td>\n",
       "    </tr>\n",
       "    <tr>\n",
       "      <th>3</th>\n",
       "      <td>8.5</td>\n",
       "      <td>75</td>\n",
       "    </tr>\n",
       "    <tr>\n",
       "      <th>4</th>\n",
       "      <td>3.5</td>\n",
       "      <td>30</td>\n",
       "    </tr>\n",
       "  </tbody>\n",
       "</table>\n",
       "</div>"
      ],
      "text/plain": [
       "   Hours  Scores\n",
       "0    2.5      21\n",
       "1    5.1      47\n",
       "2    3.2      27\n",
       "3    8.5      75\n",
       "4    3.5      30"
      ]
     },
     "execution_count": 3,
     "metadata": {},
     "output_type": "execute_result"
    }
   ],
   "source": [
    "# now let's observe the dataset \n",
    "df.head()"
   ]
  },
  {
   "cell_type": "code",
   "execution_count": 4,
   "id": "1e384095",
   "metadata": {},
   "outputs": [
    {
     "data": {
      "text/html": [
       "<div>\n",
       "<style scoped>\n",
       "    .dataframe tbody tr th:only-of-type {\n",
       "        vertical-align: middle;\n",
       "    }\n",
       "\n",
       "    .dataframe tbody tr th {\n",
       "        vertical-align: top;\n",
       "    }\n",
       "\n",
       "    .dataframe thead th {\n",
       "        text-align: right;\n",
       "    }\n",
       "</style>\n",
       "<table border=\"1\" class=\"dataframe\">\n",
       "  <thead>\n",
       "    <tr style=\"text-align: right;\">\n",
       "      <th></th>\n",
       "      <th>Hours</th>\n",
       "      <th>Scores</th>\n",
       "    </tr>\n",
       "  </thead>\n",
       "  <tbody>\n",
       "    <tr>\n",
       "      <th>20</th>\n",
       "      <td>2.7</td>\n",
       "      <td>30</td>\n",
       "    </tr>\n",
       "    <tr>\n",
       "      <th>21</th>\n",
       "      <td>4.8</td>\n",
       "      <td>54</td>\n",
       "    </tr>\n",
       "    <tr>\n",
       "      <th>22</th>\n",
       "      <td>3.8</td>\n",
       "      <td>35</td>\n",
       "    </tr>\n",
       "    <tr>\n",
       "      <th>23</th>\n",
       "      <td>6.9</td>\n",
       "      <td>76</td>\n",
       "    </tr>\n",
       "    <tr>\n",
       "      <th>24</th>\n",
       "      <td>7.8</td>\n",
       "      <td>86</td>\n",
       "    </tr>\n",
       "  </tbody>\n",
       "</table>\n",
       "</div>"
      ],
      "text/plain": [
       "    Hours  Scores\n",
       "20    2.7      30\n",
       "21    4.8      54\n",
       "22    3.8      35\n",
       "23    6.9      76\n",
       "24    7.8      86"
      ]
     },
     "execution_count": 4,
     "metadata": {},
     "output_type": "execute_result"
    }
   ],
   "source": [
    "df.tail()\n"
   ]
  },
  {
   "cell_type": "code",
   "execution_count": 5,
   "id": "13400450",
   "metadata": {},
   "outputs": [
    {
     "data": {
      "text/plain": [
       "(25, 2)"
      ]
     },
     "execution_count": 5,
     "metadata": {},
     "output_type": "execute_result"
    }
   ],
   "source": [
    "# To find the number of columns and rows \n",
    "df.shape"
   ]
  },
  {
   "cell_type": "code",
   "execution_count": 6,
   "id": "746fe653",
   "metadata": {},
   "outputs": [
    {
     "name": "stdout",
     "output_type": "stream",
     "text": [
      "<class 'pandas.core.frame.DataFrame'>\n",
      "RangeIndex: 25 entries, 0 to 24\n",
      "Data columns (total 2 columns):\n",
      " #   Column  Non-Null Count  Dtype  \n",
      "---  ------  --------------  -----  \n",
      " 0   Hours   25 non-null     float64\n",
      " 1   Scores  25 non-null     int64  \n",
      "dtypes: float64(1), int64(1)\n",
      "memory usage: 528.0 bytes\n"
     ]
    }
   ],
   "source": [
    "\n",
    "# To find more information about our dataset\n",
    "df.info()"
   ]
  },
  {
   "cell_type": "code",
   "execution_count": 7,
   "id": "04eefc85",
   "metadata": {},
   "outputs": [
    {
     "data": {
      "text/html": [
       "<div>\n",
       "<style scoped>\n",
       "    .dataframe tbody tr th:only-of-type {\n",
       "        vertical-align: middle;\n",
       "    }\n",
       "\n",
       "    .dataframe tbody tr th {\n",
       "        vertical-align: top;\n",
       "    }\n",
       "\n",
       "    .dataframe thead th {\n",
       "        text-align: right;\n",
       "    }\n",
       "</style>\n",
       "<table border=\"1\" class=\"dataframe\">\n",
       "  <thead>\n",
       "    <tr style=\"text-align: right;\">\n",
       "      <th></th>\n",
       "      <th>Hours</th>\n",
       "      <th>Scores</th>\n",
       "    </tr>\n",
       "  </thead>\n",
       "  <tbody>\n",
       "    <tr>\n",
       "      <th>count</th>\n",
       "      <td>25.000000</td>\n",
       "      <td>25.000000</td>\n",
       "    </tr>\n",
       "    <tr>\n",
       "      <th>mean</th>\n",
       "      <td>5.012000</td>\n",
       "      <td>51.480000</td>\n",
       "    </tr>\n",
       "    <tr>\n",
       "      <th>std</th>\n",
       "      <td>2.525094</td>\n",
       "      <td>25.286887</td>\n",
       "    </tr>\n",
       "    <tr>\n",
       "      <th>min</th>\n",
       "      <td>1.100000</td>\n",
       "      <td>17.000000</td>\n",
       "    </tr>\n",
       "    <tr>\n",
       "      <th>25%</th>\n",
       "      <td>2.700000</td>\n",
       "      <td>30.000000</td>\n",
       "    </tr>\n",
       "    <tr>\n",
       "      <th>50%</th>\n",
       "      <td>4.800000</td>\n",
       "      <td>47.000000</td>\n",
       "    </tr>\n",
       "    <tr>\n",
       "      <th>75%</th>\n",
       "      <td>7.400000</td>\n",
       "      <td>75.000000</td>\n",
       "    </tr>\n",
       "    <tr>\n",
       "      <th>max</th>\n",
       "      <td>9.200000</td>\n",
       "      <td>95.000000</td>\n",
       "    </tr>\n",
       "  </tbody>\n",
       "</table>\n",
       "</div>"
      ],
      "text/plain": [
       "           Hours     Scores\n",
       "count  25.000000  25.000000\n",
       "mean    5.012000  51.480000\n",
       "std     2.525094  25.286887\n",
       "min     1.100000  17.000000\n",
       "25%     2.700000  30.000000\n",
       "50%     4.800000  47.000000\n",
       "75%     7.400000  75.000000\n",
       "max     9.200000  95.000000"
      ]
     },
     "execution_count": 7,
     "metadata": {},
     "output_type": "execute_result"
    }
   ],
   "source": [
    "df.describe()"
   ]
  },
  {
   "cell_type": "code",
   "execution_count": 8,
   "id": "4f2acfd2",
   "metadata": {},
   "outputs": [
    {
     "data": {
      "text/plain": [
       "Hours     0\n",
       "Scores    0\n",
       "dtype: int64"
      ]
     },
     "execution_count": 8,
     "metadata": {},
     "output_type": "execute_result"
    }
   ],
   "source": [
    "# now we will check if our dataset contains null or missings values  \n",
    "df.isnull().sum()"
   ]
  },
  {
   "cell_type": "markdown",
   "id": "3c6c8cac",
   "metadata": {},
   "source": [
    "\n",
    "**As we can see we do not have any null values in our data set so we can now move on to our next step**"
   ]
  },
  {
   "cell_type": "markdown",
   "id": "073a929d",
   "metadata": {},
   "source": [
    "# STEP 2 - Visualizing the dataset"
   ]
  },
  {
   "cell_type": "markdown",
   "id": "0a3fb89c",
   "metadata": {},
   "source": [
    "*In this we will plot the dataset to check whether we can observe any relation between the two variables or not*"
   ]
  },
  {
   "cell_type": "code",
   "execution_count": 9,
   "id": "e3472f99",
   "metadata": {},
   "outputs": [
    {
     "data": {
      "image/png": "[encoded data removed]",
      "text/plain": [
       "<Figure size 1152x648 with 1 Axes>"
      ]
     },
     "metadata": {
      "needs_background": "light"
     },
     "output_type": "display_data"
    }
   ],
   "source": [
    "# Plotting the dataset\n",
    "plt.rcParams[\"figure.figsize\"] = [16,9]\n",
    "df.plot(x='Hours', y='Scores', style='.', color='blue', markersize=10)\n",
    "plt.title('Hours vs Percentage')  \n",
    "plt.xlabel('Hours Studied')  \n",
    "plt.ylabel('Percentage Score')  \n",
    "plt.grid()\n",
    "plt.show()"
   ]
  },
  {
   "cell_type": "markdown",
   "id": "8e466d9d",
   "metadata": {},
   "source": [
    "\n",
    "**From the graph above, we can observe that there is a linear relationship between \"hours studied\" and \"percentage score\". So, we can use the linear regression supervised machine model on it to predict further values.**"
   ]
  },
  {
   "cell_type": "code",
   "execution_count": 10,
   "id": "71bd5271",
   "metadata": {},
   "outputs": [
    {
     "data": {
      "text/html": [
       "<div>\n",
       "<style scoped>\n",
       "    .dataframe tbody tr th:only-of-type {\n",
       "        vertical-align: middle;\n",
       "    }\n",
       "\n",
       "    .dataframe tbody tr th {\n",
       "        vertical-align: top;\n",
       "    }\n",
       "\n",
       "    .dataframe thead th {\n",
       "        text-align: right;\n",
       "    }\n",
       "</style>\n",
       "<table border=\"1\" class=\"dataframe\">\n",
       "  <thead>\n",
       "    <tr style=\"text-align: right;\">\n",
       "      <th></th>\n",
       "      <th>Hours</th>\n",
       "      <th>Scores</th>\n",
       "    </tr>\n",
       "  </thead>\n",
       "  <tbody>\n",
       "    <tr>\n",
       "      <th>Hours</th>\n",
       "      <td>1.000000</td>\n",
       "      <td>0.976191</td>\n",
       "    </tr>\n",
       "    <tr>\n",
       "      <th>Scores</th>\n",
       "      <td>0.976191</td>\n",
       "      <td>1.000000</td>\n",
       "    </tr>\n",
       "  </tbody>\n",
       "</table>\n",
       "</div>"
      ],
      "text/plain": [
       "           Hours    Scores\n",
       "Hours   1.000000  0.976191\n",
       "Scores  0.976191  1.000000"
      ]
     },
     "execution_count": 10,
     "metadata": {},
     "output_type": "execute_result"
    }
   ],
   "source": [
    "# we can also use .corr to determine the corelation between the variables \n",
    "df.corr()\n",
    "\n",
    "\n",
    "\n"
   ]
  },
  {
   "cell_type": "markdown",
   "id": "fd111ff7",
   "metadata": {},
   "source": [
    "# STEP 3 - Data preparation"
   ]
  },
  {
   "cell_type": "markdown",
   "id": "81f39b6e",
   "metadata": {},
   "source": [
    "**In this step we will divide the data into \"features\" (inputs) and \"labels\" (outputs). After that we will split the whole dataset into 2 parts - testing data and training data.**"
   ]
  },
  {
   "cell_type": "code",
   "execution_count": 11,
   "id": "1fbf3d6c",
   "metadata": {},
   "outputs": [
    {
     "data": {
      "text/html": [
       "<div>\n",
       "<style scoped>\n",
       "    .dataframe tbody tr th:only-of-type {\n",
       "        vertical-align: middle;\n",
       "    }\n",
       "\n",
       "    .dataframe tbody tr th {\n",
       "        vertical-align: top;\n",
       "    }\n",
       "\n",
       "    .dataframe thead th {\n",
       "        text-align: right;\n",
       "    }\n",
       "</style>\n",
       "<table border=\"1\" class=\"dataframe\">\n",
       "  <thead>\n",
       "    <tr style=\"text-align: right;\">\n",
       "      <th></th>\n",
       "      <th>Hours</th>\n",
       "      <th>Scores</th>\n",
       "    </tr>\n",
       "  </thead>\n",
       "  <tbody>\n",
       "    <tr>\n",
       "      <th>0</th>\n",
       "      <td>2.5</td>\n",
       "      <td>21</td>\n",
       "    </tr>\n",
       "    <tr>\n",
       "      <th>1</th>\n",
       "      <td>5.1</td>\n",
       "      <td>47</td>\n",
       "    </tr>\n",
       "    <tr>\n",
       "      <th>2</th>\n",
       "      <td>3.2</td>\n",
       "      <td>27</td>\n",
       "    </tr>\n",
       "    <tr>\n",
       "      <th>3</th>\n",
       "      <td>8.5</td>\n",
       "      <td>75</td>\n",
       "    </tr>\n",
       "    <tr>\n",
       "      <th>4</th>\n",
       "      <td>3.5</td>\n",
       "      <td>30</td>\n",
       "    </tr>\n",
       "  </tbody>\n",
       "</table>\n",
       "</div>"
      ],
      "text/plain": [
       "   Hours  Scores\n",
       "0    2.5      21\n",
       "1    5.1      47\n",
       "2    3.2      27\n",
       "3    8.5      75\n",
       "4    3.5      30"
      ]
     },
     "execution_count": 11,
     "metadata": {},
     "output_type": "execute_result"
    }
   ],
   "source": [
    "\n",
    "df.head()"
   ]
  },
  {
   "cell_type": "code",
   "execution_count": 12,
   "id": "ace3f69c",
   "metadata": {},
   "outputs": [],
   "source": [
    "\n",
    "# using iloc function we will divide the data \n",
    "X = df.iloc[:, :1].values  \n",
    "y = df.iloc[:, 1:].values"
   ]
  },
  {
   "cell_type": "code",
   "execution_count": 13,
   "id": "5fd2af1a",
   "metadata": {},
   "outputs": [
    {
     "data": {
      "text/plain": [
       "array([[2.5],\n",
       "       [5.1],\n",
       "       [3.2],\n",
       "       [8.5],\n",
       "       [3.5],\n",
       "       [1.5],\n",
       "       [9.2],\n",
       "       [5.5],\n",
       "       [8.3],\n",
       "       [2.7],\n",
       "       [7.7],\n",
       "       [5.9],\n",
       "       [4.5],\n",
       "       [3.3],\n",
       "       [1.1],\n",
       "       [8.9],\n",
       "       [2.5],\n",
       "       [1.9],\n",
       "       [6.1],\n",
       "       [7.4],\n",
       "       [2.7],\n",
       "       [4.8],\n",
       "       [3.8],\n",
       "       [6.9],\n",
       "       [7.8]])"
      ]
     },
     "execution_count": 13,
     "metadata": {},
     "output_type": "execute_result"
    }
   ],
   "source": [
    "X"
   ]
  },
  {
   "cell_type": "code",
   "execution_count": 14,
   "id": "f51ff0e9",
   "metadata": {},
   "outputs": [
    {
     "data": {
      "text/plain": [
       "array([[21],\n",
       "       [47],\n",
       "       [27],\n",
       "       [75],\n",
       "       [30],\n",
       "       [20],\n",
       "       [88],\n",
       "       [60],\n",
       "       [81],\n",
       "       [25],\n",
       "       [85],\n",
       "       [62],\n",
       "       [41],\n",
       "       [42],\n",
       "       [17],\n",
       "       [95],\n",
       "       [30],\n",
       "       [24],\n",
       "       [67],\n",
       "       [69],\n",
       "       [30],\n",
       "       [54],\n",
       "       [35],\n",
       "       [76],\n",
       "       [86]], dtype=int64)"
      ]
     },
     "execution_count": 14,
     "metadata": {},
     "output_type": "execute_result"
    }
   ],
   "source": [
    "y\n"
   ]
  },
  {
   "cell_type": "code",
   "execution_count": 15,
   "id": "d7dd86ec",
   "metadata": {},
   "outputs": [],
   "source": [
    "# Splitting data into training and testing data\n",
    "\n",
    "from sklearn.model_selection import train_test_split  \n",
    "X_train, X_test, y_train, y_test = train_test_split(X, y, \n",
    "                            test_size=0.2, random_state=0)\n",
    "\n"
   ]
  },
  {
   "cell_type": "markdown",
   "id": "7ac539c1",
   "metadata": {},
   "source": [
    "# STEP 4 - Training the Algorithm\n"
   ]
  },
  {
   "cell_type": "markdown",
   "id": "cc0fe761",
   "metadata": {},
   "source": [
    "**We have splited our data into training and testing sets, and now we will train our Model.**"
   ]
  },
  {
   "cell_type": "code",
   "execution_count": 16,
   "id": "1c79e92c",
   "metadata": {},
   "outputs": [
    {
     "data": {
      "text/plain": [
       "LinearRegression()"
      ]
     },
     "execution_count": 16,
     "metadata": {},
     "output_type": "execute_result"
    }
   ],
   "source": [
    "from sklearn.linear_model import LinearRegression  \n",
    "\n",
    "model = LinearRegression()  \n",
    "model.fit(X_train, y_train)"
   ]
  },
  {
   "cell_type": "markdown",
   "id": "67c2bbd3",
   "metadata": {},
   "source": [
    "# STEP 5 - Visualizing the model"
   ]
  },
  {
   "cell_type": "markdown",
   "id": "1cc2eda0",
   "metadata": {},
   "source": [
    "**After training the model, now its time to visualize it**"
   ]
  },
  {
   "cell_type": "code",
   "execution_count": 17,
   "id": "7cdf1fc4",
   "metadata": {},
   "outputs": [
    {
     "data": {
      "image/png": "[encoded data removed]",
      "text/plain": [
       "<Figure size 1152x648 with 1 Axes>"
      ]
     },
     "metadata": {
      "needs_background": "light"
     },
     "output_type": "display_data"
    }
   ],
   "source": [
    "line = model.coef_*X + model.intercept_\n",
    "\n",
    "# Plotting for the training data\n",
    "plt.rcParams[\"figure.figsize\"] = [16,9]\n",
    "plt.scatter(X_train, y_train, color='green')\n",
    "plt.plot(X, line, color='red');\n",
    "plt.xlabel('Hours Studied')  \n",
    "plt.ylabel('Percentage Score') \n",
    "plt.grid()\n",
    "plt.show()"
   ]
  },
  {
   "cell_type": "code",
   "execution_count": 18,
   "id": "5387503e",
   "metadata": {},
   "outputs": [
    {
     "data": {
      "image/png": "[encoded data removed]",
      "text/plain": [
       "<Figure size 1152x648 with 1 Axes>"
      ]
     },
     "metadata": {
      "needs_background": "light"
     },
     "output_type": "display_data"
    }
   ],
   "source": [
    "# Plotting for the testing data\n",
    "plt.rcParams[\"figure.figsize\"] = [16,9]\n",
    "plt.scatter(X_test, y_test, color='green')\n",
    "plt.plot(X, line, color='red');\n",
    "plt.xlabel('Hours Studied')  \n",
    "plt.ylabel('Percentage Score') \n",
    "plt.grid()\n",
    "plt.show()"
   ]
  },
  {
   "cell_type": "markdown",
   "id": "a9a76dce",
   "metadata": {},
   "source": [
    "# STEP 6 - Making Predictions"
   ]
  },
  {
   "cell_type": "markdown",
   "id": "7deddcdf",
   "metadata": {},
   "source": [
    "**Now that we have trained our algorithm, it's time to make some predictions.**"
   ]
  },
  {
   "cell_type": "code",
   "execution_count": 19,
   "id": "20e8a216",
   "metadata": {},
   "outputs": [
    {
     "name": "stdout",
     "output_type": "stream",
     "text": [
      "[[1.5]\n",
      " [3.2]\n",
      " [7.4]\n",
      " [2.5]\n",
      " [5.9]]\n"
     ]
    }
   ],
   "source": [
    "print(X_test) # Testing data - In Hours\n",
    "y_pred = model.predict(X_test) # Predicting the scores"
   ]
  },
  {
   "cell_type": "code",
   "execution_count": 20,
   "id": "103dad76",
   "metadata": {},
   "outputs": [
    {
     "data": {
      "text/plain": [
       "array([[20],\n",
       "       [27],\n",
       "       [69],\n",
       "       [30],\n",
       "       [62]], dtype=int64)"
      ]
     },
     "execution_count": 20,
     "metadata": {},
     "output_type": "execute_result"
    }
   ],
   "source": [
    "# Comparing Actual vs Predicted\n",
    "\n",
    "y_test"
   ]
  },
  {
   "cell_type": "code",
   "execution_count": 21,
   "id": "95500ff4",
   "metadata": {},
   "outputs": [
    {
     "data": {
      "text/plain": [
       "array([[16.88414476],\n",
       "       [33.73226078],\n",
       "       [75.357018  ],\n",
       "       [26.79480124],\n",
       "       [60.49103328]])"
      ]
     },
     "execution_count": 21,
     "metadata": {},
     "output_type": "execute_result"
    }
   ],
   "source": [
    "y_pred"
   ]
  },
  {
   "cell_type": "code",
   "execution_count": 22,
   "id": "5c9d7faa",
   "metadata": {},
   "outputs": [
    {
     "data": {
      "text/html": [
       "<div>\n",
       "<style scoped>\n",
       "    .dataframe tbody tr th:only-of-type {\n",
       "        vertical-align: middle;\n",
       "    }\n",
       "\n",
       "    .dataframe tbody tr th {\n",
       "        vertical-align: top;\n",
       "    }\n",
       "\n",
       "    .dataframe thead th {\n",
       "        text-align: right;\n",
       "    }\n",
       "</style>\n",
       "<table border=\"1\" class=\"dataframe\">\n",
       "  <thead>\n",
       "    <tr style=\"text-align: right;\">\n",
       "      <th></th>\n",
       "      <th>Actual</th>\n",
       "      <th>Predicted</th>\n",
       "    </tr>\n",
       "  </thead>\n",
       "  <tbody>\n",
       "    <tr>\n",
       "      <th>0</th>\n",
       "      <td>[[20], [27], [69], [30], [62]]</td>\n",
       "      <td>[[16.884144762398037], [33.73226077948984], [7...</td>\n",
       "    </tr>\n",
       "  </tbody>\n",
       "</table>\n",
       "</div>"
      ],
      "text/plain": [
       "                           Actual  \\\n",
       "0  [[20], [27], [69], [30], [62]]   \n",
       "\n",
       "                                           Predicted  \n",
       "0  [[16.884144762398037], [33.73226077948984], [7...  "
      ]
     },
     "execution_count": 22,
     "metadata": {},
     "output_type": "execute_result"
    }
   ],
   "source": [
    "# Comparing Actual vs Predicted\n",
    "comp = pd.DataFrame({ 'Actual':[y_test],'Predicted':[y_pred] })\n",
    "comp"
   ]
  },
  {
   "cell_type": "code",
   "execution_count": 23,
   "id": "c61af5f2",
   "metadata": {},
   "outputs": [
    {
     "name": "stdout",
     "output_type": "stream",
     "text": [
      "The predicted score if a person studies for 9.25 hours is [93.69173249]\n"
     ]
    }
   ],
   "source": [
    "# Testing with your own data\n",
    "\n",
    "hours = 9.25\n",
    "own_pred = model.predict([[hours]])\n",
    "print(\"The predicted score if a person studies for\",hours,\"hours is\",own_pred[0])"
   ]
  },
  {
   "cell_type": "markdown",
   "id": "14fbf8b7",
   "metadata": {},
   "source": [
    "## **Hence, it can be concluded that the predicted score if a person studies for 9.25 hours is 93.69173248737538**\n",
    "\n"
   ]
  },
  {
   "cell_type": "markdown",
   "id": "fee257f1",
   "metadata": {},
   "source": [
    "# STEP 7 - Evaluating the model"
   ]
  },
  {
   "cell_type": "markdown",
   "id": "35b0e76a",
   "metadata": {},
   "source": [
    "**In the last step, we are going to evaluate our trained model by calculating mean absolute error**"
   ]
  },
  {
   "cell_type": "code",
   "execution_count": 24,
   "id": "e22c2341",
   "metadata": {
    "scrolled": true
   },
   "outputs": [
    {
     "name": "stdout",
     "output_type": "stream",
     "text": [
      "Mean Absolute Error: 4.183859899002975\n"
     ]
    }
   ],
   "source": [
    "from sklearn import metrics  \n",
    "\n",
    "print('Mean Absolute Error:', metrics.mean_absolute_error(y_test, y_pred))"
   ]
  },
  {
   "cell_type": "markdown",
   "id": "b8e45395",
   "metadata": {},
   "source": [
    "## **Hence , The    Mean Absolute Error is  4.183859899002975** "
   ]
  },
  {
   "cell_type": "markdown",
   "id": "9f9a5267",
   "metadata": {},
   "source": [
    "# .......................................     THANK YOU   ....................................... \n",
    "     \n",
    "     \n",
    "     "
   ]
  },
  {
   "cell_type": "code",
   "execution_count": null,
   "id": "66881657",
   "metadata": {},
   "outputs": [],
   "source": []
  },
  {
   "cell_type": "code",
   "execution_count": null,
   "id": "867995e5",
   "metadata": {},
   "outputs": [],
   "source": []
  }
 ],
 "metadata": {
  "kernelspec": {
   "display_name": "Python 3",
   "language": "python",
   "name": "python3"
  },
  "language_info": {
   "codemirror_mode": {
    "name": "ipython",
    "version": 3
   },
   "file_extension": ".py",
   "mimetype": "text/x-python",
   "name": "python",
   "nbconvert_exporter": "python",
   "pygments_lexer": "ipython3",
   "version": "3.8.8"
  }
 },
 "nbformat": 4,
 "nbformat_minor": 5
}
